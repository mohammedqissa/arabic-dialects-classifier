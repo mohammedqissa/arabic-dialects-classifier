{
 "cells": [
  {
   "cell_type": "markdown",
   "metadata": {},
   "source": [
    "# This to classify arabic dialects, Egybtion,Not Egyption,Iraqi,Not Iraqi"
   ]
  },
  {
   "cell_type": "markdown",
   "metadata": {},
   "source": [
    "## Imports\n",
    "### Here, all required packages in this project will be imported."
   ]
  },
  {
   "cell_type": "code",
   "execution_count": 1,
   "metadata": {
    "collapsed": true
   },
   "outputs": [],
   "source": [
    "# This code is to disable warnings that may display this notebook a little bit \"ugly\"\n",
    "import warnings\n",
    "warnings.filterwarnings('ignore')"
   ]
  },
  {
   "cell_type": "code",
   "execution_count": 15,
   "metadata": {
    "collapsed": false
   },
   "outputs": [],
   "source": [
    "import numpy as np\n",
    "import pandas as pd\n",
    "import seaborn as sns\n",
    "import matplotlib.pyplot as plt\n",
    "import nltk\n",
    "\n",
    "from sklearn.metrics import classification_report\n",
    "\n",
    "from sklearn.feature_extraction.text import CountVectorizer\n",
    "from sklearn.feature_extraction.text import TfidfTransformer, TfidfVectorizer\n",
    "from sklearn.model_selection import cross_val_score, KFold, train_test_split\n",
    "\n",
    "from sklearn.pipeline import Pipeline\n",
    "\n",
    "import string\n",
    "\n",
    "from sklearn.learning_curve import learning_curve\n",
    "\n",
    "from ipywidgets import widgets\n",
    "from IPython.display import display\n",
    "from IPython.display import clear_output\n",
    "\n",
    "from collections import Counter\n",
    "\n",
    "import pickle\n",
    "\n",
    "import sys\n",
    "\n",
    "import random\n",
    "\n",
    "%matplotlib inline"
   ]
  },
  {
   "cell_type": "markdown",
   "metadata": {},
   "source": [
    "## get the data"
   ]
  },
  {
   "cell_type": "code",
   "execution_count": 3,
   "metadata": {
    "collapsed": true
   },
   "outputs": [],
   "source": [
    "iraq = pd.read_excel(open('10K egypt - iraq.xlsx','rb'), sheetname=0)\n",
    "egypt = pd.read_excel(open('10K egypt - iraq.xlsx','rb'), sheetname=1)\n",
    "data = [iraq,egypt]\n",
    "data = pd.concat(data)"
   ]
  },
  {
   "cell_type": "markdown",
   "metadata": {},
   "source": [
    "## EDA"
   ]
  },
  {
   "cell_type": "code",
   "execution_count": 4,
   "metadata": {
    "collapsed": false
   },
   "outputs": [
    {
     "data": {
      "text/html": [
       "<div>\n",
       "<table border=\"1\" class=\"dataframe\">\n",
       "  <thead>\n",
       "    <tr style=\"text-align: right;\">\n",
       "      <th></th>\n",
       "      <th>text</th>\n",
       "      <th>label</th>\n",
       "    </tr>\n",
       "  </thead>\n",
       "  <tbody>\n",
       "    <tr>\n",
       "      <th>9998</th>\n",
       "      <td>RT @n_h996: فولو للاكونت ده 👇 @n_h996  ورتويت ...</td>\n",
       "      <td>Egyptian</td>\n",
       "    </tr>\n",
       "    <tr>\n",
       "      <th>9999</th>\n",
       "      <td>RT @Soll__a: الحب هو انك برغم كل اللخبطه اللى ...</td>\n",
       "      <td>Egyptian</td>\n",
       "    </tr>\n",
       "  </tbody>\n",
       "</table>\n",
       "</div>"
      ],
      "text/plain": [
       "                                                   text     label\n",
       "9998  RT @n_h996: فولو للاكونت ده 👇 @n_h996  ورتويت ...  Egyptian\n",
       "9999  RT @Soll__a: الحب هو انك برغم كل اللخبطه اللى ...  Egyptian"
      ]
     },
     "execution_count": 4,
     "metadata": {},
     "output_type": "execute_result"
    }
   ],
   "source": [
    "data.tail(2)"
   ]
  },
  {
   "cell_type": "code",
   "execution_count": 5,
   "metadata": {
    "collapsed": false
   },
   "outputs": [
    {
     "data": {
      "text/html": [
       "<div>\n",
       "<table border=\"1\" class=\"dataframe\">\n",
       "  <thead>\n",
       "    <tr style=\"text-align: right;\">\n",
       "      <th></th>\n",
       "      <th>text</th>\n",
       "      <th>label</th>\n",
       "    </tr>\n",
       "  </thead>\n",
       "  <tbody>\n",
       "    <tr>\n",
       "      <th>0</th>\n",
       "      <td>@q56KeugK7R4c8H6 @PonRuTrDQO6m8Nn بخطف عليكم ب...</td>\n",
       "      <td>not-iraqi</td>\n",
       "    </tr>\n",
       "    <tr>\n",
       "      <th>1</th>\n",
       "      <td>@7ellooha @marimalazraa قد ميز الله - تعالى - ...</td>\n",
       "      <td>iraqi</td>\n",
       "    </tr>\n",
       "  </tbody>\n",
       "</table>\n",
       "</div>"
      ],
      "text/plain": [
       "                                                text      label\n",
       "0  @q56KeugK7R4c8H6 @PonRuTrDQO6m8Nn بخطف عليكم ب...  not-iraqi\n",
       "1  @7ellooha @marimalazraa قد ميز الله - تعالى - ...      iraqi"
      ]
     },
     "execution_count": 5,
     "metadata": {},
     "output_type": "execute_result"
    }
   ],
   "source": [
    "data.head(2)"
   ]
  },
  {
   "cell_type": "code",
   "execution_count": 6,
   "metadata": {
    "collapsed": false
   },
   "outputs": [
    {
     "name": "stdout",
     "output_type": "stream",
     "text": [
      "<class 'pandas.core.frame.DataFrame'>\n",
      "Int64Index: 20000 entries, 0 to 9999\n",
      "Data columns (total 2 columns):\n",
      "text     19997 non-null object\n",
      "label    20000 non-null object\n",
      "dtypes: object(2)\n",
      "memory usage: 468.8+ KB\n"
     ]
    }
   ],
   "source": [
    "data.info()"
   ]
  },
  {
   "cell_type": "markdown",
   "metadata": {},
   "source": [
    "## data cleaning"
   ]
  },
  {
   "cell_type": "code",
   "execution_count": 7,
   "metadata": {
    "collapsed": true
   },
   "outputs": [],
   "source": [
    "import re\n",
    "\n",
    "def delete_mentions(mess):\n",
    "    mess = str(mess)\n",
    "    if mess is not None and len(mess) > 0:\n",
    "        return re.sub(r\"(RT )?@[a-zA-Z0-9_]+:? \",r\"\",mess)\n",
    "    else:\n",
    "        return \"\"\n",
    "def remove_links(string):\n",
    "    return (re.sub(r'(https|http)?:\\/\\/(\\w|\\.|\\/|\\?|\\=|\\&|\\%)*\\b', '', string))\n",
    "\n",
    "def remove_emojis(string):\n",
    "    emoji_pattern = re.sub(\"[^\"\n",
    "                           u\"\\U00000621-\\U0000064A\"\n",
    "                           \"\\s\"\n",
    "                           \"]+\", \"\",string)\n",
    "    return emoji_pattern.strip()"
   ]
  },
  {
   "cell_type": "markdown",
   "metadata": {},
   "source": [
    "### remove mentions"
   ]
  },
  {
   "cell_type": "code",
   "execution_count": 8,
   "metadata": {
    "collapsed": false
   },
   "outputs": [
    {
     "data": {
      "text/plain": [
       "'بخطف عليكم ب.'"
      ]
     },
     "execution_count": 8,
     "metadata": {},
     "output_type": "execute_result"
    }
   ],
   "source": [
    "delete_mentions('@q56KeugK7R4c8H6 @PonRuTrDQO6m8Nn بخطف عليكم ب.')"
   ]
  },
  {
   "cell_type": "code",
   "execution_count": 9,
   "metadata": {
    "collapsed": true
   },
   "outputs": [],
   "source": [
    "data['text'] = data['text'].apply(delete_mentions)"
   ]
  },
  {
   "cell_type": "markdown",
   "metadata": {},
   "source": [
    "### remove links"
   ]
  },
  {
   "cell_type": "code",
   "execution_count": 10,
   "metadata": {
    "collapsed": false
   },
   "outputs": [
    {
     "data": {
      "text/plain": [
       "'@7ellooha @marimalazraa قد ميز الله - تعالى - هذه الأمة بالإسلام وأعزها به، وجعله لها طريقة فريدة في العيش، وطرازاً… '"
      ]
     },
     "execution_count": 10,
     "metadata": {},
     "output_type": "execute_result"
    }
   ],
   "source": [
    "remove_links(\"@7ellooha @marimalazraa قد ميز الله - تعالى - هذه الأمة بالإسلام وأعزها به، وجعله لها طريقة فريدة في العيش، وطرازاً… https://t.co/VSNs0du8bN\")"
   ]
  },
  {
   "cell_type": "code",
   "execution_count": 11,
   "metadata": {
    "collapsed": true
   },
   "outputs": [],
   "source": [
    "data['text'] = data['text'].apply(remove_links)"
   ]
  },
  {
   "cell_type": "markdown",
   "metadata": {},
   "source": [
    "### remove emojis"
   ]
  },
  {
   "cell_type": "code",
   "execution_count": 12,
   "metadata": {
    "collapsed": false
   },
   "outputs": [
    {
     "data": {
      "text/plain": [
       "'بخطف عليكم بسرعه  وايدي برع جامه وشرب ديو'"
      ]
     },
     "execution_count": 12,
     "metadata": {},
     "output_type": "execute_result"
    }
   ],
   "source": [
    "remove_emojis(\"بخطف عليكم بسرعه ١٨٠ وايدي برع جامه وشرب ديو 😃...\t\")"
   ]
  },
  {
   "cell_type": "code",
   "execution_count": 13,
   "metadata": {
    "collapsed": true
   },
   "outputs": [],
   "source": [
    "data['text'] = data['text'].apply(remove_emojis)"
   ]
  },
  {
   "cell_type": "code",
   "execution_count": 14,
   "metadata": {
    "collapsed": false
   },
   "outputs": [
    {
     "data": {
      "text/html": [
       "<div>\n",
       "<table border=\"1\" class=\"dataframe\">\n",
       "  <thead>\n",
       "    <tr style=\"text-align: right;\">\n",
       "      <th></th>\n",
       "      <th>text</th>\n",
       "      <th>label</th>\n",
       "    </tr>\n",
       "  </thead>\n",
       "  <tbody>\n",
       "    <tr>\n",
       "      <th>0</th>\n",
       "      <td>بخطف عليكم بسرعه  وايدي برع جامه وشرب ديو</td>\n",
       "      <td>not-iraqi</td>\n",
       "    </tr>\n",
       "    <tr>\n",
       "      <th>1</th>\n",
       "      <td>قد ميز الله  تعالى  هذه الأمة بالإسلام وأعزها ...</td>\n",
       "      <td>iraqi</td>\n",
       "    </tr>\n",
       "    <tr>\n",
       "      <th>2</th>\n",
       "      <td>انت شكو</td>\n",
       "      <td>iraqi</td>\n",
       "    </tr>\n",
       "    <tr>\n",
       "      <th>3</th>\n",
       "      <td>احلا عجميه اكثر اكاونت ابوق منه خوش وحده طيبه ...</td>\n",
       "      <td>iraqi</td>\n",
       "    </tr>\n",
       "    <tr>\n",
       "      <th>4</th>\n",
       "      <td>جزا الله خوش ر خدا  ناه م ر</td>\n",
       "      <td>not-iraqi</td>\n",
       "    </tr>\n",
       "    <tr>\n",
       "      <th>5</th>\n",
       "      <td>بش باد ه خبر خوشتر از خبر آزاد ضانبو ه روز زبا...</td>\n",
       "      <td>not-iraqi</td>\n",
       "    </tr>\n",
       "    <tr>\n",
       "      <th>6</th>\n",
       "      <td>حكام الشيعة سراق النفط في العراق لا يبالون الى...</td>\n",
       "      <td>iraqi</td>\n",
       "    </tr>\n",
       "    <tr>\n",
       "      <th>7</th>\n",
       "      <td>هههههههه حتى المؤشرات تأكد ذالك ب تا شكون داها...</td>\n",
       "      <td>iraqi</td>\n",
       "    </tr>\n",
       "    <tr>\n",
       "      <th>8</th>\n",
       "      <td>باين عليه شكون وليد الحركي هذا إذا كنت اصلا جز...</td>\n",
       "      <td>iraqi</td>\n",
       "    </tr>\n",
       "    <tr>\n",
       "      <th>9</th>\n",
       "      <td>خوش تهديد</td>\n",
       "      <td>iraqi</td>\n",
       "    </tr>\n",
       "  </tbody>\n",
       "</table>\n",
       "</div>"
      ],
      "text/plain": [
       "                                                text      label\n",
       "0          بخطف عليكم بسرعه  وايدي برع جامه وشرب ديو  not-iraqi\n",
       "1  قد ميز الله  تعالى  هذه الأمة بالإسلام وأعزها ...      iraqi\n",
       "2                                            انت شكو      iraqi\n",
       "3  احلا عجميه اكثر اكاونت ابوق منه خوش وحده طيبه ...      iraqi\n",
       "4                        جزا الله خوش ر خدا  ناه م ر  not-iraqi\n",
       "5  بش باد ه خبر خوشتر از خبر آزاد ضانبو ه روز زبا...  not-iraqi\n",
       "6  حكام الشيعة سراق النفط في العراق لا يبالون الى...      iraqi\n",
       "7  هههههههه حتى المؤشرات تأكد ذالك ب تا شكون داها...      iraqi\n",
       "8  باين عليه شكون وليد الحركي هذا إذا كنت اصلا جز...      iraqi\n",
       "9                                          خوش تهديد      iraqi"
      ]
     },
     "execution_count": 14,
     "metadata": {},
     "output_type": "execute_result"
    }
   ],
   "source": [
    "data.head(10)"
   ]
  },
  {
   "cell_type": "markdown",
   "metadata": {},
   "source": [
    "### delete arabic stop words"
   ]
  },
  {
   "cell_type": "code",
   "execution_count": 16,
   "metadata": {
    "collapsed": true
   },
   "outputs": [],
   "source": [
    "arb_stopwords = set(nltk.corpus.stopwords.words(\"arabic\"))"
   ]
  },
  {
   "cell_type": "code",
   "execution_count": 17,
   "metadata": {
    "collapsed": false
   },
   "outputs": [
    {
     "name": "stdout",
     "output_type": "stream",
     "text": [
      "{'آه', 'التي', 'أينما', 'اللائي', 'كما', 'ذاك', 'ممن', 'هيا', 'بكما', 'ذه', 'كليهما', 'يا', 'ومن', 'عسى', 'كيت', 'ذات', 'لكيلا', 'بكم', 'كلا', 'غير', 'في', 'هن', 'هذان', 'بلى', 'بهم', 'هاتان', 'أكثر', 'كيفما', 'لاسيما', 'لسن', 'كذا', 'اللذان', 'مما', 'أنا', 'كأنما', 'إما', 'كيف', 'ماذا', 'ليس', 'بخ', 'وإذ', 'منها', 'إذ', 'ذواتي', 'أف', 'أما', 'تلكم', 'أولاء', 'ليستا', 'كأن', 'هذا', 'لسنا', 'لم', 'أين', 'متى', 'ليسوا', 'أم', 'ذي', 'إليكما', 'ذينك', 'إذن', 'لو', 'هذين', 'حبذا', 'تين', 'كأين', 'لكم', 'بل', 'شتان', 'قد', 'منذ', 'ذلكما', 'أولئك', 'لكنما', 'هما', 'ذانك', 'هيت', 'لستما', 'منه', 'أوه', 'إنه', 'حاشا', 'هاهنا', 'هاته', 'كل', 'هؤلاء', 'إي', 'حيثما', 'ذلكن', 'اللذين', 'وما', 'ما', 'ذان', 'أنى', 'لستم', 'بماذا', 'لي', 'هي', 'فإن', 'على', 'فإذا', 'إنا', 'عن', 'كلتا', 'سوى', 'لهم', 'ها', 'أنت', 'بين', 'هل', 'من', 'بعد', 'حتى', 'لن', 'إلى', 'ألا', 'لعل', 'بها', 'بما', 'فلا', 'كلاهما', 'تينك', 'كم', 'لولا', 'إلا', 'هاتين', 'بيد', 'لا', 'كذلك', 'به', 'ليت', 'إليك', 'لستن', 'تي', 'لكن', 'وهو', 'ليسا', 'وإن', 'إذما', 'بنا', 'اللتين', 'عدا', 'ولا', 'مذ', 'مه', 'بعض', 'هنا', 'ذا', 'اللواتي', 'لنا', 'ذو', 'وإذا', 'الذي', 'فيم', 'ثم', 'كليكما', 'إنما', 'فيما', 'مهما', 'إيه', 'ثمة', 'ذواتا', 'مع', 'ريث', 'ليست', 'حيث', 'إليكن', 'لست', 'والذي', 'ته', 'عما', 'آها', 'سوف', 'هم', 'عليك', 'إن', 'نحو', 'لدى', 'هيهات', 'فيه', 'كلما', 'الذين', 'حين', 'آي', 'لما', 'لهن', 'نحن', 'أي', 'أقل', 'هكذا', 'له', 'بي', 'إليكم', 'أيها', 'أنتم', 'كي', 'لهما', 'اللتيا', 'ذلك', 'لكما', 'ذين', 'لئن', 'اللاتي', 'بس', 'إذا', 'بمن', 'بهن', 'عل', 'هناك', 'أن', 'فيها', 'فمن', 'ولو', 'دون', 'اللتان', 'ذلكم', 'عليه', 'عند', 'تلكما', 'هاك', 'هنالك', 'أنتن', 'ولكن', 'تلك', 'بهما', 'لك', 'نعم', 'هاتي', 'كأي', 'هذه', 'هلا', 'بك', 'هذي', 'والذين', 'ذوا', 'لها', 'أو', 'لوما', 'لكي', 'بكن', 'أنتما', 'هو', 'خلا'}\n"
     ]
    }
   ],
   "source": [
    "print(arb_stopwords)"
   ]
  },
  {
   "cell_type": "code",
   "execution_count": 18,
   "metadata": {
    "collapsed": true
   },
   "outputs": [],
   "source": [
    "def delete_stop_words(mess):\n",
    "    \n",
    "    # Now just remove any stopwords\n",
    "    stop_words = set(nltk.corpus.stopwords.words(\"arabic\"))\n",
    "    \n",
    "    return ' '.join(word for word in mess.split() if word not in stop_words and len(word)>1)"
   ]
  },
  {
   "cell_type": "code",
   "execution_count": 19,
   "metadata": {
    "collapsed": false
   },
   "outputs": [
    {
     "data": {
      "text/plain": [
       "'ميز الله تعالى الأمة بالإسلام وأعزها به، وجعله طريقة فريدة العيش، وطرازاً'"
      ]
     },
     "execution_count": 19,
     "metadata": {},
     "output_type": "execute_result"
    }
   ],
   "source": [
    "delete_stop_words(\"قد ميز الله - تعالى - هذه الأمة بالإسلام وأعزها س به، وجعله لها طريقة فريدة في العيش، وطرازاً\")"
   ]
  },
  {
   "cell_type": "code",
   "execution_count": 20,
   "metadata": {
    "collapsed": true
   },
   "outputs": [],
   "source": [
    "data['text'] = data['text'].apply(delete_stop_words)"
   ]
  },
  {
   "cell_type": "markdown",
   "metadata": {},
   "source": [
    "### delete any word if its length less than 2"
   ]
  },
  {
   "cell_type": "code",
   "execution_count": 21,
   "metadata": {
    "collapsed": true
   },
   "outputs": [],
   "source": [
    "data = data[data.text.map(len) > 2]"
   ]
  },
  {
   "cell_type": "code",
   "execution_count": 22,
   "metadata": {
    "collapsed": false
   },
   "outputs": [
    {
     "data": {
      "text/html": [
       "<div>\n",
       "<table border=\"1\" class=\"dataframe\">\n",
       "  <thead>\n",
       "    <tr style=\"text-align: right;\">\n",
       "      <th></th>\n",
       "      <th></th>\n",
       "      <th>text</th>\n",
       "    </tr>\n",
       "    <tr>\n",
       "      <th>label</th>\n",
       "      <th></th>\n",
       "      <th></th>\n",
       "    </tr>\n",
       "  </thead>\n",
       "  <tbody>\n",
       "    <tr>\n",
       "      <th rowspan=\"4\" valign=\"top\">Egyptian</th>\n",
       "      <th>count</th>\n",
       "      <td>8951</td>\n",
       "    </tr>\n",
       "    <tr>\n",
       "      <th>unique</th>\n",
       "      <td>6993</td>\n",
       "    </tr>\n",
       "    <tr>\n",
       "      <th>top</th>\n",
       "      <td>عاوز تكبر اكونتك ثواني سهله جدا اعملي فولو ورت...</td>\n",
       "    </tr>\n",
       "    <tr>\n",
       "      <th>freq</th>\n",
       "      <td>81</td>\n",
       "    </tr>\n",
       "    <tr>\n",
       "      <th rowspan=\"4\" valign=\"top\">Not Egyptian</th>\n",
       "      <th>count</th>\n",
       "      <td>867</td>\n",
       "    </tr>\n",
       "    <tr>\n",
       "      <th>unique</th>\n",
       "      <td>796</td>\n",
       "    </tr>\n",
       "    <tr>\n",
       "      <th>top</th>\n",
       "      <td>والشعراء يتبعهم الغاوون ألم تر أنهم واد يهيمون...</td>\n",
       "    </tr>\n",
       "    <tr>\n",
       "      <th>freq</th>\n",
       "      <td>6</td>\n",
       "    </tr>\n",
       "    <tr>\n",
       "      <th rowspan=\"4\" valign=\"top\">iraqi</th>\n",
       "      <th>count</th>\n",
       "      <td>4928</td>\n",
       "    </tr>\n",
       "    <tr>\n",
       "      <th>unique</th>\n",
       "      <td>4531</td>\n",
       "    </tr>\n",
       "    <tr>\n",
       "      <th>top</th>\n",
       "      <td>درى اللي مريت مو صدفة ماكو صدفة شوية يلاحقني ز...</td>\n",
       "    </tr>\n",
       "    <tr>\n",
       "      <th>freq</th>\n",
       "      <td>41</td>\n",
       "    </tr>\n",
       "    <tr>\n",
       "      <th rowspan=\"4\" valign=\"top\">not-iraqi</th>\n",
       "      <th>count</th>\n",
       "      <td>4810</td>\n",
       "    </tr>\n",
       "    <tr>\n",
       "      <th>unique</th>\n",
       "      <td>4193</td>\n",
       "    </tr>\n",
       "    <tr>\n",
       "      <th>top</th>\n",
       "      <td>وعلم السلام ورحم الل صبح بخر مش خوش خوشا بان د...</td>\n",
       "    </tr>\n",
       "    <tr>\n",
       "      <th>freq</th>\n",
       "      <td>42</td>\n",
       "    </tr>\n",
       "  </tbody>\n",
       "</table>\n",
       "</div>"
      ],
      "text/plain": [
       "                                                                  text\n",
       "label                                                                 \n",
       "Egyptian     count                                                8951\n",
       "             unique                                               6993\n",
       "             top     عاوز تكبر اكونتك ثواني سهله جدا اعملي فولو ورت...\n",
       "             freq                                                   81\n",
       "Not Egyptian count                                                 867\n",
       "             unique                                                796\n",
       "             top     والشعراء يتبعهم الغاوون ألم تر أنهم واد يهيمون...\n",
       "             freq                                                    6\n",
       "iraqi        count                                                4928\n",
       "             unique                                               4531\n",
       "             top     درى اللي مريت مو صدفة ماكو صدفة شوية يلاحقني ز...\n",
       "             freq                                                   41\n",
       "not-iraqi    count                                                4810\n",
       "             unique                                               4193\n",
       "             top     وعلم السلام ورحم الل صبح بخر مش خوش خوشا بان د...\n",
       "             freq                                                   42"
      ]
     },
     "execution_count": 22,
     "metadata": {},
     "output_type": "execute_result"
    }
   ],
   "source": [
    "data.groupby('label').describe()"
   ]
  },
  {
   "cell_type": "code",
   "execution_count": 23,
   "metadata": {
    "collapsed": false
   },
   "outputs": [
    {
     "data": {
      "text/plain": [
       "<matplotlib.axes._subplots.AxesSubplot at 0x117971cc0>"
      ]
     },
     "execution_count": 23,
     "metadata": {},
     "output_type": "execute_result"
    },
    {
     "data": {
      "image/png": "[encoded data removed]",
      "text/plain": [
       "<matplotlib.figure.Figure at 0x117967dd8>"
      ]
     },
     "metadata": {},
     "output_type": "display_data"
    }
   ],
   "source": [
    "sns.countplot(x=\"label\", data=data)"
   ]
  },
  {
   "cell_type": "markdown",
   "metadata": {},
   "source": [
    "## Words Representation\n",
    "\n",
    "### The following code is to show the most representative words per each CATEGORY. While the following code will plot the most representative words per each CATEGORY."
   ]
  },
  {
   "cell_type": "code",
   "execution_count": 24,
   "metadata": {
    "collapsed": false
   },
   "outputs": [
    {
     "name": "stdout",
     "output_type": "stream",
     "text": [
      "Corpus Size: 58494ormed! Please wait ..."
     ]
    },
    {
     "data": {
      "image/png": "[encoded data removed]",
      "text/plain": [
       "<matplotlib.figure.Figure at 0x115c32198>"
      ]
     },
     "metadata": {},
     "output_type": "display_data"
    }
   ],
   "source": [
    "caption_0 = widgets.Label('Enter a number:')\n",
    "text_0 = widgets.IntText(value=10)\n",
    "button_0 = widgets.Button(description=\"Plot\")\n",
    "display(caption_0,text_0,button_0)\n",
    "\n",
    "def histogram_label():\n",
    "    n = text_0.value # Top n words\n",
    "    corpus_size = 0\n",
    "    i=1\n",
    "    df = data[['text','label']]\n",
    "    categories = data.label.unique()\n",
    "    for category in categories:\n",
    "            df_text=df.query('label ==  @category')\n",
    "            result =\" \".join(df_text['text'].values.tolist()).split(\" \")\n",
    "            r = pd.DataFrame(result, columns=['WORDS'])\n",
    "            corpus_size = corpus_size + len(r['WORDS'].unique())\n",
    "            Counter_=Counter(result).most_common(n)\n",
    "            labels = [item[0] for item in Counter_]\n",
    "            number = [item[1] for item in Counter_]\n",
    "            nbars = len(Counter_)\n",
    "            plt.subplot(2,2,i)\n",
    "            plt.xticks(rotation=90,fontsize=15)\n",
    "            plt.yticks(fontsize=15)\n",
    "            plt.title(category, fontsize=18)\n",
    "            plt.bar(np.arange(nbars), number, tick_label=labels)\n",
    "            i=i+1\n",
    "    return corpus_size\n",
    "\n",
    "def handle_submit(sender):\n",
    "    t = (\"Plot is being performed! Please wait ...\")\n",
    "    sys.stdout.write('\\r'+t)\n",
    "    plt.figure(figsize=(15,10))\n",
    "    s = histogram_label()\n",
    "    plt.tight_layout()\n",
    "    sys.stdout.write('\\r'+'Corpus Size: ' + str(s))\n",
    "    sys.stdout.flush()\n",
    "    \n",
    "button_0.on_click(handle_submit)"
   ]
  },
  {
   "cell_type": "markdown",
   "metadata": {},
   "source": [
    "## dialect classification "
   ]
  },
  {
   "cell_type": "code",
   "execution_count": 25,
   "metadata": {
    "collapsed": true
   },
   "outputs": [],
   "source": [
    "X = data.text\n",
    "y = data.label"
   ]
  },
  {
   "cell_type": "code",
   "execution_count": 26,
   "metadata": {
    "collapsed": false
   },
   "outputs": [
    {
     "name": "stdout",
     "output_type": "stream",
     "text": [
      "(13689,) (5867,) (13689,) (5867,)\n"
     ]
    }
   ],
   "source": [
    "from sklearn.cross_validation import train_test_split\n",
    "X_train, X_test, y_train, y_test = train_test_split(X, y, test_size=0.3, random_state=101)\n",
    "print(X_train.shape, X_test.shape, y_train.shape, y_test.shape)"
   ]
  },
  {
   "cell_type": "markdown",
   "metadata": {},
   "source": [
    "### using naive bayes classification model\n",
    "#### use pipeline to pipeline the process: convert words to numbers then tfidf to give importance for each word then train the model\n",
    "#### use pickle to save the model as a file"
   ]
  },
  {
   "cell_type": "code",
   "execution_count": 27,
   "metadata": {
    "collapsed": false
   },
   "outputs": [
    {
     "name": "stdout",
     "output_type": "stream",
     "text": [
      "              precision    recall  f1-score   support\n",
      "\n",
      "    Egyptian       1.00      0.87      0.93      3118\n",
      "Not Egyptian       0.04      1.00      0.08        10\n",
      "       iraqi       0.83      0.93      0.87      1315\n",
      "   not-iraqi       0.89      0.89      0.89      1424\n",
      "\n",
      " avg / total       0.93      0.89      0.91      5867\n",
      "\n"
     ]
    }
   ],
   "source": [
    "from sklearn.naive_bayes import MultinomialNB\n",
    "\n",
    "# Initializing Pipline\n",
    "pipelineNB = Pipeline([\n",
    "    ('bow', CountVectorizer()),  # strings to token integer counts   ====  analyzer=normalize_text\n",
    "    ('tfidf', TfidfTransformer()),  # integer counts to weighted TF-IDF scores\n",
    "    ('classifier', MultinomialNB()),  # train on TF-IDF vectors\n",
    "])\n",
    "\n",
    "# Training the model\n",
    "pipelineNB.fit(X_train, y_train)\n",
    "\n",
    "# Saving training results using Pickle\n",
    "with open('pipelineNB.pickle', 'wb') as handle:\n",
    "    pickle.dump(pipelineNB, handle, protocol=pickle.HIGHEST_PROTOCOL)\n",
    "\n",
    "# Predictions\n",
    "predictionsNB = pipelineNB.predict(X_test)\n",
    "\n",
    "# Model Evaluation\n",
    "print(classification_report(predictionsNB, y_test))"
   ]
  },
  {
   "cell_type": "code",
   "execution_count": 28,
   "metadata": {
    "collapsed": false
   },
   "outputs": [
    {
     "data": {
      "text/plain": [
       "'iraqi'"
      ]
     },
     "execution_count": 28,
     "metadata": {},
     "output_type": "execute_result"
    }
   ],
   "source": [
    "with open('pipelineNB.pickle', 'rb') as handle:\n",
    "    NB = pickle.load(handle)\n",
    "NB.predict([\"شكون حالك\"])[0]"
   ]
  },
  {
   "cell_type": "code",
   "execution_count": 29,
   "metadata": {
    "collapsed": false
   },
   "outputs": [
    {
     "data": {
      "text/plain": [
       "'Egyptian'"
      ]
     },
     "execution_count": 29,
     "metadata": {},
     "output_type": "execute_result"
    }
   ],
   "source": [
    "NB.predict([\"هوا في ايه\"])[0]"
   ]
  },
  {
   "cell_type": "code",
   "execution_count": 30,
   "metadata": {
    "collapsed": false
   },
   "outputs": [
    {
     "data": {
      "text/plain": [
       "'Egyptian'"
      ]
     },
     "execution_count": 30,
     "metadata": {},
     "output_type": "execute_result"
    }
   ],
   "source": [
    "NB.predict([\"انا عاوز أوجه تحيه للدوله العميقه اللى كل يوم بتثبت ان البلد دى فيها رجاله عارفه بتعمل ايه فعلا و امتى و ازاى ، فى اسبوعي…\"])[0]"
   ]
  },
  {
   "cell_type": "code",
   "execution_count": 31,
   "metadata": {
    "collapsed": false
   },
   "outputs": [
    {
     "data": {
      "text/plain": [
       "'iraqi'"
      ]
     },
     "execution_count": 31,
     "metadata": {},
     "output_type": "execute_result"
    }
   ],
   "source": [
    "NB.predict([\"انا خوش مشتاقلك\"])[0]"
   ]
  },
  {
   "cell_type": "code",
   "execution_count": 32,
   "metadata": {
    "collapsed": false
   },
   "outputs": [
    {
     "data": {
      "text/plain": [
       "'not-iraqi'"
      ]
     },
     "execution_count": 32,
     "metadata": {},
     "output_type": "execute_result"
    }
   ],
   "source": [
    "NB.predict([\"م نواز شرف اس وقت عوام سب زاد مقبول ترن لر\"])[0]"
   ]
  },
  {
   "cell_type": "markdown",
   "metadata": {},
   "source": [
    "### cross validation"
   ]
  },
  {
   "cell_type": "code",
   "execution_count": 33,
   "metadata": {
    "collapsed": false
   },
   "outputs": [
    {
     "name": "stdout",
     "output_type": "stream",
     "text": [
      "CPU times: user 2.46 s, sys: 64.5 ms, total: 2.52 s\n",
      "Wall time: 2.55 s\n",
      "Cross-validation scores: [ 0.88353414  0.87399562  0.88422206  0.88093499  0.88596491]\n",
      "Average cross-validation score: 0.88 +/- 0.00\n"
     ]
    }
   ],
   "source": [
    "%time scoresNB = cross_val_score(pipelineNB, X_train, y_train, cv = 5)\n",
    "print(\"Cross-validation scores: {}\".format(scoresNB))\n",
    "print(\"Average cross-validation score: {:.2f} +/- {:.2f}\".format(scoresNB.mean(), scoresNB.std()))\n",
    "scoresNB = scoresNB.mean()"
   ]
  },
  {
   "cell_type": "markdown",
   "metadata": {},
   "source": [
    "#### learining curve"
   ]
  },
  {
   "cell_type": "code",
   "execution_count": 34,
   "metadata": {
    "collapsed": true
   },
   "outputs": [],
   "source": [
    "def plot_learning_curve(estimator, title, X, y, ylim=None, cv=None,\n",
    "                        n_jobs=-1, train_sizes=np.linspace(.1, 1.0, 5)):\n",
    "    \"\"\"\n",
    "    This function is to generate a simple plot of the test and traning learning curve.\n",
    "    \"\"\"\n",
    "    plt.figure()\n",
    "    plt.title(title)\n",
    "    if ylim is not None:\n",
    "        plt.ylim(*ylim)\n",
    "    plt.xlabel(\"Training examples\")\n",
    "    plt.ylabel(\"Score\")\n",
    "    train_sizes, train_scores, test_scores = learning_curve(\n",
    "        estimator, X, y, cv=cv, n_jobs=n_jobs, train_sizes=train_sizes)\n",
    "    train_scores_mean = np.mean(train_scores, axis=1)\n",
    "    train_scores_std = np.std(train_scores, axis=1)\n",
    "    test_scores_mean = np.mean(test_scores, axis=1)\n",
    "    test_scores_std = np.std(test_scores, axis=1)\n",
    "    plt.grid()\n",
    "\n",
    "    plt.fill_between(train_sizes, train_scores_mean - train_scores_std,\n",
    "                     train_scores_mean + train_scores_std, alpha=0.1,\n",
    "                     color=\"r\")\n",
    "    plt.fill_between(train_sizes, test_scores_mean - test_scores_std,\n",
    "                     test_scores_mean + test_scores_std, alpha=0.1, color=\"g\")\n",
    "    plt.plot(train_sizes, train_scores_mean, 'o-', color=\"r\",\n",
    "             label=\"Training score\")\n",
    "    plt.plot(train_sizes, test_scores_mean, 'o-', color=\"g\",\n",
    "             label=\"Cross-validation score\")\n",
    "\n",
    "    plt.legend(loc=\"best\")\n",
    "    return plt"
   ]
  },
  {
   "cell_type": "code",
   "execution_count": 35,
   "metadata": {
    "collapsed": false
   },
   "outputs": [
    {
     "name": "stdout",
     "output_type": "stream",
     "text": [
      "CPU times: user 610 ms, sys: 351 ms, total: 961 ms\n",
      "Wall time: 7.47 s\n"
     ]
    },
    {
     "data": {
      "text/plain": [
       "<module 'matplotlib.pyplot' from '/Users/mohammedissa/anaconda/lib/python3.6/site-packages/matplotlib/pyplot.py'>"
      ]
     },
     "execution_count": 35,
     "metadata": {},
     "output_type": "execute_result"
    },
    {
     "data": {
      "image/png": "[encoded data removed]",
      "text/plain": [
       "<matplotlib.figure.Figure at 0x1158e09e8>"
      ]
     },
     "metadata": {},
     "output_type": "display_data"
    }
   ],
   "source": [
    "%time plot_learning_curve(pipelineNB, \"accuracy vs. training set size\", X_train, y_train, cv=5)"
   ]
  },
  {
   "cell_type": "markdown",
   "metadata": {},
   "source": [
    "#### delete duplicates from data, this may a reason for the week results"
   ]
  },
  {
   "cell_type": "code",
   "execution_count": 36,
   "metadata": {
    "collapsed": true
   },
   "outputs": [],
   "source": [
    "data2 = data.drop_duplicates(subset=['text'])"
   ]
  },
  {
   "cell_type": "code",
   "execution_count": 37,
   "metadata": {
    "collapsed": false
   },
   "outputs": [
    {
     "data": {
      "text/html": [
       "<div>\n",
       "<table border=\"1\" class=\"dataframe\">\n",
       "  <thead>\n",
       "    <tr style=\"text-align: right;\">\n",
       "      <th></th>\n",
       "      <th></th>\n",
       "      <th>text</th>\n",
       "    </tr>\n",
       "    <tr>\n",
       "      <th>label</th>\n",
       "      <th></th>\n",
       "      <th></th>\n",
       "    </tr>\n",
       "  </thead>\n",
       "  <tbody>\n",
       "    <tr>\n",
       "      <th rowspan=\"4\" valign=\"top\">Egyptian</th>\n",
       "      <th>count</th>\n",
       "      <td>6974</td>\n",
       "    </tr>\n",
       "    <tr>\n",
       "      <th>unique</th>\n",
       "      <td>6974</td>\n",
       "    </tr>\n",
       "    <tr>\n",
       "      <th>top</th>\n",
       "      <td>نفسي محل ورد زي ده</td>\n",
       "    </tr>\n",
       "    <tr>\n",
       "      <th>freq</th>\n",
       "      <td>1</td>\n",
       "    </tr>\n",
       "    <tr>\n",
       "      <th rowspan=\"4\" valign=\"top\">Not Egyptian</th>\n",
       "      <th>count</th>\n",
       "      <td>766</td>\n",
       "    </tr>\n",
       "    <tr>\n",
       "      <th>unique</th>\n",
       "      <td>766</td>\n",
       "    </tr>\n",
       "    <tr>\n",
       "      <th>top</th>\n",
       "      <td>انجام ارها ادار تو ان مملت مثل مواجهه با ادها ...</td>\n",
       "    </tr>\n",
       "    <tr>\n",
       "      <th>freq</th>\n",
       "      <td>1</td>\n",
       "    </tr>\n",
       "    <tr>\n",
       "      <th rowspan=\"4\" valign=\"top\">iraqi</th>\n",
       "      <th>count</th>\n",
       "      <td>4501</td>\n",
       "    </tr>\n",
       "    <tr>\n",
       "      <th>unique</th>\n",
       "      <td>4501</td>\n",
       "    </tr>\n",
       "    <tr>\n",
       "      <th>top</th>\n",
       "      <td>الاكل الاكل ماكو غيره</td>\n",
       "    </tr>\n",
       "    <tr>\n",
       "      <th>freq</th>\n",
       "      <td>1</td>\n",
       "    </tr>\n",
       "    <tr>\n",
       "      <th rowspan=\"4\" valign=\"top\">not-iraqi</th>\n",
       "      <th>count</th>\n",
       "      <td>4176</td>\n",
       "    </tr>\n",
       "    <tr>\n",
       "      <th>unique</th>\n",
       "      <td>4176</td>\n",
       "    </tr>\n",
       "    <tr>\n",
       "      <th>top</th>\n",
       "      <td>مبارباد جو اور وال تو اس جس رشت اس ون دا</td>\n",
       "    </tr>\n",
       "    <tr>\n",
       "      <th>freq</th>\n",
       "      <td>1</td>\n",
       "    </tr>\n",
       "  </tbody>\n",
       "</table>\n",
       "</div>"
      ],
      "text/plain": [
       "                                                                  text\n",
       "label                                                                 \n",
       "Egyptian     count                                                6974\n",
       "             unique                                               6974\n",
       "             top                                    نفسي محل ورد زي ده\n",
       "             freq                                                    1\n",
       "Not Egyptian count                                                 766\n",
       "             unique                                                766\n",
       "             top     انجام ارها ادار تو ان مملت مثل مواجهه با ادها ...\n",
       "             freq                                                    1\n",
       "iraqi        count                                                4501\n",
       "             unique                                               4501\n",
       "             top                                 الاكل الاكل ماكو غيره\n",
       "             freq                                                    1\n",
       "not-iraqi    count                                                4176\n",
       "             unique                                               4176\n",
       "             top              مبارباد جو اور وال تو اس جس رشت اس ون دا\n",
       "             freq                                                    1"
      ]
     },
     "execution_count": 37,
     "metadata": {},
     "output_type": "execute_result"
    }
   ],
   "source": [
    "data2.groupby('label').describe()"
   ]
  },
  {
   "cell_type": "markdown",
   "metadata": {},
   "source": [
    "### not egyption set is much smaller than others, this results to week learning of not egyption"
   ]
  },
  {
   "cell_type": "markdown",
   "metadata": {},
   "source": [
    "## Not egyption may be Iraqi, and not Iraqi may be Not egyption\n",
    "### For better accuricy we can work on classify not egyption to Iraqi and not Iraqi then get the corresponds between not Iraqi and Not egyption\n",
    "### then we will have 3 classes , Egyption, Iraqi, Not Egyption Nor Iraqi"
   ]
  }
 ],
 "metadata": {
  "kernelspec": {
   "display_name": "Python 3",
   "language": "python",
   "name": "python3"
  },
  "language_info": {
   "codemirror_mode": {
    "name": "ipython",
    "version": 3
   },
   "file_extension": ".py",
   "mimetype": "text/x-python",
   "name": "python",
   "nbconvert_exporter": "python",
   "pygments_lexer": "ipython3",
   "version": "3.6.0"
  },
  "widgets": {
   "state": {
    "74c05c6616344700b957a97759b5fd86": {
     "views": [
      {
       "cell_index": 33
      }
     ]
    },
    "7eca9e0eb33e49a8aa5933f392c17822": {
     "views": [
      {
       "cell_index": 33
      }
     ]
    },
    "a0468e17f4a84b4d94f0534803b05d5f": {
     "views": [
      {
       "cell_index": 33
      }
     ]
    }
   },
   "version": "1.2.0"
  }
 },
 "nbformat": 4,
 "nbformat_minor": 2
}
